{
 "cells": [
  {
   "cell_type": "markdown",
   "metadata": {},
   "source": [
    "## Main Work(3.9-3.15)\n",
    "|Task|Content|Problem|\n",
    "|:--:|:--:|:--:|\n",
    "|1| LaTex +Code (3.9-3.10)  | 中文编译问题\n",
    "|2| Opaml 环境搭建 (3.10-3.12) | Jupyter-notebook kernel管理\n",
    "|3|SIG程序分析技术沙龙回顾(3.14)| 加宽，赋值迁移，drawing，凸性局限性\n",
    "|4|RealworldOCaml Chapter1(3.10-3.15)|科学上网&&Core模块更新(3.11)&&Time.to_string time(3.12)\n",
    "|5|GitKraken可视化Git工具|修改host地址防止更新\n",
    "|6|系统清理|实验文件不清晰\n",
    "\n",
    "--- --- --- "
   ]
  },
  {
   "cell_type": "markdown",
   "metadata": {},
   "source": [
    "## Next Work (3.16-3.22)\n",
    "|Task|Content|Problem|\n",
    "|:--:|:--:|:--:|\n",
    "|1| LaTex学习一 | 推荐教程，切入点\n",
    "|2| RealWorldOCaml Chapter2 | CSDN博客管理/Git同步\n",
    "|4| 了解人工智能的形式化验证技术 | 纸质笔记 \n",
    "|5| 了解Docker|入门与实践Ch1"
   ]
  },
  {
   "cell_type": "markdown",
   "metadata": {},
   "source": [
    "---\n",
    "### Current Problem\n",
    "1. 方向\n",
    "2. 计划\n",
    "3. 进度"
   ]
  },
  {
   "cell_type": "markdown",
   "metadata": {},
   "source": [
    "# Chapter 1\n",
    "1. gives an overview of OCaml by walking through a series of small example that cover most of the major features of the language.\n",
    "2. `Core`: a more full-featured and capable replacement for OCaml's standard library.\n",
    "3. `utop`: a shell that lets you type in expressions and evaluate the interactively.\n",
    "4. `toplever`: which you can start by typing ocaml at the command line.\n",
    "        "
   ]
  },
  {
   "cell_type": "markdown",
   "metadata": {},
   "source": [
    "## 1.1OCaml as a Calculator"
   ]
  },
  {
   "cell_type": "code",
   "execution_count": null,
   "metadata": {},
   "outputs": [],
   "source": [
    "open Core;;"
   ]
  },
  {
   "cell_type": "markdown",
   "metadata": {},
   "source": [
    "This makes the definitions in Core available.\n",
    "Now let's try \n",
    "### a few simple numerical calculations."
   ]
  },
  {
   "cell_type": "code",
   "execution_count": null,
   "metadata": {},
   "outputs": [],
   "source": [
    "3+4;;"
   ]
  },
  {
   "cell_type": "code",
   "execution_count": null,
   "metadata": {},
   "outputs": [],
   "source": [
    "8/3;;"
   ]
  },
  {
   "cell_type": "code",
   "execution_count": null,
   "metadata": {},
   "outputs": [],
   "source": [
    "3.5 +. 6.;;"
   ]
  },
  {
   "cell_type": "code",
   "execution_count": null,
   "metadata": {},
   "outputs": [],
   "source": [
    "30_000_000 / 300_000;;"
   ]
  },
  {
   "cell_type": "code",
   "execution_count": null,
   "metadata": {},
   "outputs": [],
   "source": [
    "sqrt 9.;;"
   ]
  },
  {
   "cell_type": "code",
   "execution_count": null,
   "metadata": {},
   "outputs": [],
   "source": [
    "1 / 3"
   ]
  },
  {
   "cell_type": "code",
   "execution_count": null,
   "metadata": {},
   "outputs": [],
   "source": [
    "1. /. 3. "
   ]
  },
  {
   "cell_type": "markdown",
   "metadata": {},
   "source": [
    "1. type ;; in order to tell the toplevel that if should evaluate an expression.This is a peculiarity of the toplevel that is not required in standalone programs.\n",
    "2. After evaluating an expression, the toplevel first prints the type of the result, and then prints the result ifself.\n",
    "3. Function arguments are separated by `space` instead of by parentheses and commas.\n",
    "4. place underscores in the middle of numetric literals to improve readability. Note that underscores can be placed anywhere within a number.\n",
    "5. OCaml carefully distinguishes between `float` and `int`. The types have different literals(6. instead of 6) and different infix operator(+. insted of +), and OCaml doesn't automatically cast between these types. \n"
   ]
  },
  {
   "cell_type": "markdown",
   "metadata": {},
   "source": [
    "### `a let binding`\n",
    "create a variable to name the value of a given expression, using the `let` keyword. "
   ]
  },
  {
   "cell_type": "code",
   "execution_count": null,
   "metadata": {},
   "outputs": [],
   "source": [
    "let x = 3 + 4;; "
   ]
  },
  {
   "cell_type": "code",
   "execution_count": null,
   "metadata": {},
   "outputs": [],
   "source": [
    "let y = x + x;;"
   ]
  },
  {
   "cell_type": "markdown",
   "metadata": {},
   "source": [
    "#### some constraints on what identifiers can be used for variale names\n",
    "1. Punctuation is excluded, except for `_` and `'`\n",
    "2. variables must start with a lowercase letter or an underscore."
   ]
  },
  {
   "cell_type": "markdown",
   "metadata": {},
   "source": [
    "###### legal:"
   ]
  },
  {
   "cell_type": "code",
   "execution_count": null,
   "metadata": {},
   "outputs": [],
   "source": [
    "let x7 = 3 + 4;;"
   ]
  },
  {
   "cell_type": "code",
   "execution_count": null,
   "metadata": {},
   "outputs": [],
   "source": [
    "let x_plus_y = x + y;;"
   ]
  },
  {
   "cell_type": "code",
   "execution_count": null,
   "metadata": {},
   "outputs": [],
   "source": [
    "let x' = x + 1;;"
   ]
  },
  {
   "cell_type": "code",
   "execution_count": null,
   "metadata": {},
   "outputs": [],
   "source": [
    "let _x' = x' + x;;"
   ]
  },
  {
   "cell_type": "markdown",
   "metadata": {},
   "source": [
    "Note: by default, *utop* doesn't bother to print out variables starting with an underscore. "
   ]
  },
  {
   "cell_type": "code",
   "execution_count": null,
   "metadata": {},
   "outputs": [],
   "source": [
    "(*\n",
    "let 7x = 7;;\n",
    "let x-plus-y = x + y;;\n",
    "let Seven = 3 + 4;;\n",
    "*)"
   ]
  },
  {
   "cell_type": "code",
   "execution_count": null,
   "metadata": {},
   "outputs": [],
   "source": [
    "let x-plus-y = x + y;;"
   ]
  },
  {
   "cell_type": "markdown",
   "metadata": {},
   "source": [
    "### 1.2Functions and Type Inference\n"
   ]
  },
  {
   "cell_type": "code",
   "execution_count": null,
   "metadata": {},
   "outputs": [],
   "source": [
    "(* let syntax can also be used to define a function:*)\n",
    "let square x = x * x;;\n",
    "square 2;;\n",
    "square (square 2);;"
   ]
  },
  {
   "cell_type": "markdown",
   "metadata": {},
   "source": [
    "+ Functions in OCaml are values like any other, which is why we use the let keyword to bind a function to a variable name, just as we use let to bind a simple value like an integer to a variable name.\n",
    "\n",
    "+ the types have gotten more interesting too. `int -> int` is a `funciton type`, in this case indicating a function that takes an int and returns an int."
   ]
  },
  {
   "cell_type": "markdown",
   "metadata": {},
   "source": [
    "##### write functions that take multiple arguments"
   ]
  },
  {
   "cell_type": "code",
   "execution_count": null,
   "metadata": {},
   "outputs": [],
   "source": [
    "let ratio x y =\n",
    "  Float.of_int x /. Float.of_int y\n",
    "  ;;\n",
    "ratio 4 7;;"
   ]
  },
  {
   "cell_type": "markdown",
   "metadata": {},
   "source": [
    "+ Note that module names always start with a capital letter.\n",
    "+ `int -> int -> float` describes a function that takes two `int` arguments and returns a `float`.\n"
   ]
  },
  {
   "cell_type": "markdown",
   "metadata": {},
   "source": [
    "##### write functions that take other functions as arguments. "
   ]
  },
  {
   "cell_type": "code",
   "execution_count": null,
   "metadata": {},
   "outputs": [],
   "source": [
    "let sum_if_true test first second = \n",
    "  (if test first then first else 0)\n",
    "  + (if test second then second else 0)\n",
    ";;\n",
    "(*an example of a function that takes three arguments: a test function and two integer arguments.The function returns the sum of the integers that pass the test.*)"
   ]
  },
  {
   "cell_type": "markdown",
   "metadata": {},
   "source": []
  },
  {
   "cell_type": "markdown",
   "metadata": {},
   "source": [
    "If we look the inferred type signature in detail, we see that the first argument is a function that takes an integer and returns a boolean, and that the remaining two arguments are integers. Here's an example of this function in action:"
   ]
  },
  {
   "cell_type": "code",
   "execution_count": null,
   "metadata": {
    "scrolled": true
   },
   "outputs": [],
   "source": [
    "let even x = \n",
    "  x mod 2 = 0;;\n",
    "sum_if_true even 3 4;;\n",
    "sum_if_true even 2 4;;"
   ]
  },
  {
   "cell_type": "code",
   "execution_count": null,
   "metadata": {},
   "outputs": [],
   "source": [
    "3 mod 2 = 0"
   ]
  },
  {
   "cell_type": "markdown",
   "metadata": {},
   "source": [
    "Note that in the definition of even, we used `=` in two different ways: once as the part of the let binding that separates the thing being defined from its definition; once as an equality test, when comparing `x mod 2` to `0`"
   ]
  },
  {
   "cell_type": "markdown",
   "metadata": {},
   "source": [
    "### 1.2.1 Type Inference\n",
    "+ OCaml determines the type of an expression using a technique called `type inference`, by which the type of an expression is infered from the available type information about the components of that expression."
   ]
  },
  {
   "cell_type": "markdown",
   "metadata": {},
   "source": [
    "#### the process of inferring the type of `sum_if_type`:\n",
    "1. OCaml requires that both branches of an `if` statement have the same type, so the expression `if test first then first else 0` requires that `first` must be the same tlype as `0`, and so `first` must be of type int.\n",
    "2. test is passed first as an argument.Since first has type int, the input type of test must be int.\n",
    "3. test first is used as the condition in an if statement, so the return type of test must be bool.\n",
    "4. The fact that `+` returns int implies that the return value of sum_if_true must be int.\n",
    "\n",
    "Together, that nails down the types of all the variables, which determines the overall type of sum_if_true."
   ]
  },
  {
   "cell_type": "markdown",
   "metadata": {},
   "source": [
    "##### add explicit type annotations"
   ]
  },
  {
   "cell_type": "code",
   "execution_count": null,
   "metadata": {},
   "outputs": [],
   "source": [
    "let sum_if_true(test: int -> bool)(x: int)(y: int) : int =\n",
    "  (if test x then x else 0)\n",
    "  +(if test y then y else 0)\n",
    ";;"
   ]
  },
  {
   "cell_type": "markdown",
   "metadata": {},
   "source": [
    "### 1.2.2Inferring Generic Types"
   ]
  },
  {
   "cell_type": "markdown",
   "metadata": {},
   "source": [
    "+ OCaml has introduced a `type variable` 'a to express that the type is generic.\n",
    "+ parametric polymorphim: it works by parameterizing the type in question with a type varible."
   ]
  },
  {
   "cell_type": "code",
   "execution_count": null,
   "metadata": {},
   "outputs": [],
   "source": [
    "let first_if_true test x y =\n",
    "  if test x then x else y\n",
    ";;"
   ]
  },
  {
   "cell_type": "code",
   "execution_count": null,
   "metadata": {},
   "outputs": [],
   "source": [
    "let long_string s = String.length s > 6;;\n",
    "first_if_true long_string \"short\" \"loooooong\";;"
   ]
  },
  {
   "cell_type": "code",
   "execution_count": null,
   "metadata": {},
   "outputs": [],
   "source": [
    "let big_number x = x >3;;\n",
    "first_if_true big_number 4 3;;"
   ]
  },
  {
   "cell_type": "code",
   "execution_count": null,
   "metadata": {},
   "outputs": [],
   "source": [
    "(*\n",
    "first_if_true big_number \"short\" \"looooong\";;\n",
    "*)"
   ]
  },
  {
   "cell_type": "markdown",
   "metadata": {},
   "source": [
    "###### Type Errors Versus Exceptions"
   ]
  },
  {
   "cell_type": "markdown",
   "metadata": {},
   "source": [
    "There's a big difference in OCaml(and really in any compiled language) between errors that are caught at compile time and those that are caught at runtime."
   ]
  },
  {
   "cell_type": "code",
   "execution_count": null,
   "metadata": {},
   "outputs": [],
   "source": [
    "let add_potato x = \n",
    "  x + \"potato\";;"
   ]
  },
  {
   "cell_type": "code",
   "execution_count": null,
   "metadata": {
    "scrolled": true
   },
   "outputs": [],
   "source": [
    "let is_a_multiple x y = \n",
    "  x mod y = 0;;\n",
    "is_a_multiple 8 2;;\n",
    "is_a_multiple 8 0;;"
   ]
  },
  {
   "cell_type": "markdown",
   "metadata": {},
   "source": [
    "The distinction here is that type errors will stop you whether or not the offending code is ever actually executed. Merely defining add_potato is an error, whereas is_a_mlultiple only fails when it's called, and then, only when it's called with an input that triggers the exception. "
   ]
  },
  {
   "cell_type": "markdown",
   "metadata": {},
   "source": [
    "### 1.3 Tuples,Lists,Options, and Pattern Matching"
   ]
  },
  {
   "cell_type": "markdown",
   "metadata": {},
   "source": [
    "#### Tuples\n",
    "A tuple is an **ordered** collection of values that can each be of a different type. You can create a tuple by jointing values together with a comma:"
   ]
  },
  {
   "cell_type": "code",
   "execution_count": null,
   "metadata": {},
   "outputs": [],
   "source": [
    "let a_tuple = (3,\"there\");;\n",
    "let another_tuple = (3,\"four\",5.);;"
   ]
  },
  {
   "cell_type": "markdown",
   "metadata": {},
   "source": [
    "For the mathematically inclined, the * character is used because the set of all pairs of type t * s corresponds to the Cartesian product of the set of elements of type t and the set of elements of type s."
   ]
  },
  {
   "cell_type": "code",
   "execution_count": null,
   "metadata": {},
   "outputs": [],
   "source": [
    "let (x,y) = a_tuple;;"
   ]
  },
  {
   "cell_type": "code",
   "execution_count": null,
   "metadata": {
    "scrolled": true
   },
   "outputs": [],
   "source": [
    "x + String.length y;;"
   ]
  },
  {
   "cell_type": "markdown",
   "metadata": {},
   "source": [
    "Note that the same syntax is used both for construction and for constructing and for pattern matching on tuples."
   ]
  },
  {
   "cell_type": "code",
   "execution_count": null,
   "metadata": {},
   "outputs": [],
   "source": [
    "let distance (x1,y1)(x2,y2) = \n",
    "  sqrt ((x1 -. x2)**2. +. (y1 -. y2)**2.)"
   ]
  },
  {
   "cell_type": "markdown",
   "metadata": {},
   "source": [
    "### 1.3.2 Lists"
   ]
  },
  {
   "cell_type": "markdown",
   "metadata": {},
   "source": [
    "+ tuples : a fixed number of items, potetially of different types.\n",
    "+ lits : hold any number of items of the same type."
   ]
  },
  {
   "cell_type": "code",
   "execution_count": null,
   "metadata": {},
   "outputs": [],
   "source": [
    "let languages = [\"OCaml\";\"Perl\";\"C\"];;"
   ]
  },
  {
   "cell_type": "code",
   "execution_count": null,
   "metadata": {},
   "outputs": [],
   "source": [
    "(* can't mix elements of different types in the same list, unlike tuples*)\n",
    "let numbers = [\"3\";\"four\";5];;"
   ]
  },
  {
   "cell_type": "markdown",
   "metadata": {},
   "source": [
    "##### The List module\n"
   ]
  },
  {
   "cell_type": "code",
   "execution_count": null,
   "metadata": {},
   "outputs": [],
   "source": [
    "open Core;;"
   ]
  },
  {
   "cell_type": "code",
   "execution_count": null,
   "metadata": {},
   "outputs": [],
   "source": [
    "List.length languages;;"
   ]
  },
  {
   "cell_type": "code",
   "execution_count": null,
   "metadata": {},
   "outputs": [],
   "source": [
    "List.map languages ~f:String.length;;"
   ]
  },
  {
   "cell_type": "code",
   "execution_count": null,
   "metadata": {
    "scrolled": false
   },
   "outputs": [],
   "source": [
    "List.map ~f:String.length languages;;"
   ]
  },
  {
   "cell_type": "markdown",
   "metadata": {},
   "source": [
    "Notably\n",
    "+ the function passed to List.map is passed under a `labeled argument~f`.\n",
    "+ Labeled arguments are specified by name rather than by position\n",
    "+ and thus allow you to change the order"
   ]
  },
  {
   "cell_type": "code",
   "execution_count": null,
   "metadata": {
    "scrolled": true
   },
   "outputs": [],
   "source": [
    "List.map ~f:String.length languages;;"
   ]
  },
  {
   "cell_type": "markdown",
   "metadata": {},
   "source": [
    " #### Constructing lists with `::`"
   ]
  },
  {
   "cell_type": "code",
   "execution_count": null,
   "metadata": {},
   "outputs": [],
   "source": [
    "\"French\" :: \"Spanish\" :: languages;;"
   ]
  },
  {
   "cell_type": "markdown",
   "metadata": {},
   "source": [
    "Create a new and extended list, not changing the list we started with."
   ]
  },
  {
   "cell_type": "code",
   "execution_count": null,
   "metadata": {},
   "outputs": [],
   "source": [
    "languages;;"
   ]
  },
  {
   "cell_type": "markdown",
   "metadata": {},
   "source": [
    "#### Semicolons Versus Commas"
   ]
  },
  {
   "cell_type": "code",
   "execution_count": null,
   "metadata": {
    "scrolled": true
   },
   "outputs": [],
   "source": [
    "[\"OCaml\", \"Perl\", \"C\"];;"
   ]
  },
  {
   "cell_type": "markdown",
   "metadata": {},
   "source": [
    "In particular, rather than a list of three strings, what we have is a singleton list containing a three-tuple of strings."
   ]
  },
  {
   "cell_type": "code",
   "execution_count": null,
   "metadata": {},
   "outputs": [],
   "source": [
    "1,2,3;;"
   ]
  },
  {
   "cell_type": "markdown",
   "metadata": {},
   "source": [
    "This example uncovers the fact that commas create a tuple, even if there are no surrounding parens."
   ]
  },
  {
   "cell_type": "code",
   "execution_count": null,
   "metadata": {},
   "outputs": [],
   "source": [
    "[1; 2; 3];;"
   ]
  },
  {
   "cell_type": "code",
   "execution_count": null,
   "metadata": {},
   "outputs": [],
   "source": [
    "1 :: (2 :: (3 ::[]));;"
   ]
  },
  {
   "cell_type": "code",
   "execution_count": null,
   "metadata": {},
   "outputs": [],
   "source": [
    "1 :: 2 :: 3 ::[];;"
   ]
  },
  {
   "cell_type": "markdown",
   "metadata": {},
   "source": [
    "list concatenation operaator @\n",
    "+ unlike `::`, this is not a constant-time operation"
   ]
  },
  {
   "cell_type": "code",
   "execution_count": null,
   "metadata": {},
   "outputs": [],
   "source": [
    "[1;2;3] @ [4;5;6];;"
   ]
  },
  {
   "cell_type": "markdown",
   "metadata": {},
   "source": [
    "### List patterns using match"
   ]
  },
  {
   "cell_type": "code",
   "execution_count": null,
   "metadata": {},
   "outputs": [],
   "source": [
    "let my_favorite_language (my_favorite :: the_test) = \n",
    "  my_favorite\n",
    ";;"
   ]
  },
  {
   "cell_type": "code",
   "execution_count": null,
   "metadata": {},
   "outputs": [],
   "source": [
    "my_favorite_language [\"English\", \"Spanish\", \"French\"];;"
   ]
  },
  {
   "cell_type": "code",
   "execution_count": null,
   "metadata": {},
   "outputs": [],
   "source": [
    "my_favorite_language [];;"
   ]
  },
  {
   "cell_type": "markdown",
   "metadata": {},
   "source": [
    "pipe characters |"
   ]
  },
  {
   "cell_type": "code",
   "execution_count": null,
   "metadata": {},
   "outputs": [],
   "source": [
    "let my_favorite_language languages = \n",
    "  match languages with\n",
    "  | first :: the_rest -> first\n",
    "  | [] -> \"OCaml\"(*a good default*)\n",
    ";;"
   ]
  },
  {
   "attachments": {
    "image.png": {
     "image/png": "[encoded data removed]"
    }
   },
   "cell_type": "markdown",
   "metadata": {},
   "source": [
    "![image.png](attachment:image.png)"
   ]
  },
  {
   "cell_type": "code",
   "execution_count": null,
   "metadata": {},
   "outputs": [],
   "source": [
    "my_favorite_language[\"English\";\"Spanish\";\"French\"];;\n",
    "my_favorite_language [];;"
   ]
  },
  {
   "cell_type": "markdown",
   "metadata": {},
   "source": [
    "#### Recursive list function"
   ]
  },
  {
   "cell_type": "code",
   "execution_count": null,
   "metadata": {
    "scrolled": true
   },
   "outputs": [],
   "source": [
    "let rec sum l = \n",
    "  match l with \n",
    "  | [] -> 0                 (* base case *)\n",
    "  | hd :: tl -> hd + sum tl (* inductive case *)\n",
    ";;\n",
    "sum [1;2;3];;"
   ]
  },
  {
   "cell_type": "markdown",
   "metadata": {},
   "source": [
    "+ Following the common OCaml idiom, we use hd to refer to the head of the list and tl to refer to the tail.\n",
    "+ `rec` keyword: to allow sum to refer to itself"
   ]
  },
  {
   "cell_type": "markdown",
   "metadata": {},
   "source": [
    "remove sequential duplicates"
   ]
  },
  {
   "cell_type": "code",
   "execution_count": null,
   "metadata": {
    "scrolled": false
   },
   "outputs": [],
   "source": [
    "let rec destutter list = \n",
    "  match list with \n",
    "  | [] -> []\n",
    "  | hd1 :: hd2 :: tl -> \n",
    "    if hd1 = hd2 then destutter (hd2 :: tl)\n",
    "    else hd1 :: destutter(hd2 :: tl)\n",
    ";;"
   ]
  },
  {
   "cell_type": "markdown",
   "metadata": {},
   "source": [
    "In particular, we don't handle one-element lists."
   ]
  },
  {
   "cell_type": "code",
   "execution_count": null,
   "metadata": {
    "scrolled": true
   },
   "outputs": [],
   "source": [
    "(* open Core;; *)\n",
    "let rec destutter list = \n",
    "  match list with \n",
    "  | [] -> []\n",
    "  | [hd] -> [hd]\n",
    "  | hd1 :: hd2 :: tl -> \n",
    "    if hd1 = hd2 then destutter (hd2 :: tl)\n",
    "    else hd1 :: destutter (hd2 :: tl)"
   ]
  },
  {
   "cell_type": "markdown",
   "metadata": {},
   "source": [
    "### Options\n",
    "An option is used to express that a value might or might not be present."
   ]
  },
  {
   "cell_type": "code",
   "execution_count": null,
   "metadata": {},
   "outputs": [],
   "source": [
    "let divide x y =\n",
    "  if y = 0 then None else Some(x/y);;"
   ]
  },
  {
   "cell_type": "markdown",
   "metadata": {},
   "source": [
    "+ `Some` and `None` are constuctors that let you build optional values, just as `::` and `[]` let you build lists.\n",
    "+ You can think of an option as a specialized list that can only have zero or one elements."
   ]
  },
  {
   "cell_type": "markdown",
   "metadata": {},
   "source": [
    "Consider the following function for creating a log entry string given an optional time and a message. If no time is provided (i.e.,if the time is None), the current time is computed and used in its place: "
   ]
  },
  {
   "cell_type": "code",
   "execution_count": null,
   "metadata": {},
   "outputs": [],
   "source": [
    "open Core;;"
   ]
  },
  {
   "cell_type": "code",
   "execution_count": null,
   "metadata": {},
   "outputs": [],
   "source": [
    "let log_entry maybe_time message = \n",
    "  let time = \n",
    "    match maybe_time with\n",
    "    | Some x -> x \n",
    "    | None -> Time.now()\n",
    "  in \n",
    "  Time.to_string time ^ \" -- \" ^ message\n",
    "(*   Time.to_sec_string ~zone:Core.Zone.local (time) ^ \" -- \" ^ message *)\n",
    "(*   Time.to_sec_string time ^ \"--\" ^ message *)\n",
    ";;  "
   ]
  },
  {
   "cell_type": "code",
   "execution_count": null,
   "metadata": {},
   "outputs": [],
   "source": [
    "log_entry(Some Time.epoch) \"A long long time ago\";;\n",
    "log_entry None \"Up to the minute\";;"
   ]
  },
  {
   "cell_type": "markdown",
   "metadata": {},
   "source": [
    "### Nesting lets with let and in"
   ]
  },
  {
   "cell_type": "code",
   "execution_count": null,
   "metadata": {},
   "outputs": [],
   "source": [
    "let x = 7 in \n",
    "  x + x\n",
    "  ;;"
   ]
  },
  {
   "cell_type": "code",
   "execution_count": null,
   "metadata": {},
   "outputs": [],
   "source": [
    "x;;"
   ]
  },
  {
   "cell_type": "code",
   "execution_count": null,
   "metadata": {},
   "outputs": [],
   "source": [
    "let x = 7 in \n",
    "let y = x * x in \n",
    "x + y\n",
    ";;"
   ]
  },
  {
   "cell_type": "markdown",
   "metadata": {},
   "source": [
    "### 1.4Records and Variants "
   ]
  },
  {
   "cell_type": "code",
   "execution_count": 2,
   "metadata": {},
   "outputs": [
    {
     "data": {
      "text/plain": [
       "type point2d = { x : float; y : float; }\n"
      ]
     },
     "execution_count": 2,
     "metadata": {},
     "output_type": "execute_result"
    }
   ],
   "source": [
    "type point2d = {x : float; y : float};;"
   ]
  },
  {
   "cell_type": "code",
   "execution_count": 3,
   "metadata": {},
   "outputs": [
    {
     "data": {
      "text/plain": [
       "val p : point2d = {x = 3.; y = -4.}\n"
      ]
     },
     "execution_count": 3,
     "metadata": {},
     "output_type": "execute_result"
    }
   ],
   "source": [
    "let p = {x = 3.; y = -4.};;"
   ]
  },
  {
   "cell_type": "code",
   "execution_count": 4,
   "metadata": {},
   "outputs": [
    {
     "data": {
      "text/plain": [
       "val magnitude : point2d -> float = <fun>\n"
      ]
     },
     "execution_count": 4,
     "metadata": {},
     "output_type": "execute_result"
    }
   ],
   "source": [
    "let magnitude {x = x_pos; y = y_pos} = \n",
    "  sqrt (x_pos**2. +. y_pos ** 2.);;"
   ]
  },
  {
   "cell_type": "code",
   "execution_count": 5,
   "metadata": {},
   "outputs": [
    {
     "data": {
      "text/plain": [
       "val magnitude : point2d -> float = <fun>\n"
      ]
     },
     "execution_count": 5,
     "metadata": {},
     "output_type": "execute_result"
    }
   ],
   "source": [
    "let magnitude {x;y } = sqrt (x ** 2. +. y **2.);;"
   ]
  },
  {
   "cell_type": "code",
   "execution_count": 6,
   "metadata": {},
   "outputs": [
    {
     "data": {
      "text/plain": [
       "val distance : point2d -> point2d -> float = <fun>\n"
      ]
     },
     "execution_count": 6,
     "metadata": {},
     "output_type": "execute_result"
    }
   ],
   "source": [
    "let distance v1 v2 = \n",
    "  magnitude { x = v1.x -. v2.x; y = v1.y -. v2.y };;"
   ]
  },
  {
   "cell_type": "code",
   "execution_count": 7,
   "metadata": {},
   "outputs": [
    {
     "data": {
      "text/plain": [
       "type circle_desc = { center : point2d; radius : float; }\n"
      ]
     },
     "execution_count": 7,
     "metadata": {},
     "output_type": "execute_result"
    },
    {
     "data": {
      "text/plain": [
       "type rect_desc = { lower_left : point2d; width : float; height : float; }\n"
      ]
     },
     "execution_count": 7,
     "metadata": {},
     "output_type": "execute_result"
    },
    {
     "data": {
      "text/plain": [
       "type segment_desc = { endpoint1 : point2d; endpoint2 : point2d; }\n"
      ]
     },
     "execution_count": 7,
     "metadata": {},
     "output_type": "execute_result"
    }
   ],
   "source": [
    "type circle_desc = { center: point2d; radius: float}\n",
    "type rect_desc = { lower_left: point2d; width: float; height:float}\n",
    "type segment_desc = {endpoint1: point2d; endpoint2: point2d} ;;"
   ]
  },
  {
   "cell_type": "code",
   "execution_count": 8,
   "metadata": {
    "scrolled": true
   },
   "outputs": [
    {
     "data": {
      "text/plain": [
       "type scene_element =\n",
       "    Circle of circle_desc\n",
       "  | Rect of rect_desc\n",
       "  | Segment of segment_desc\n"
      ]
     },
     "execution_count": 8,
     "metadata": {},
     "output_type": "execute_result"
    }
   ],
   "source": [
    "type scene_element = \n",
    "  | Circle of circle_desc\n",
    "  | Rect of rect_desc\n",
    "  | Segment of segment_desc\n",
    ";;"
   ]
  },
  {
   "cell_type": "code",
   "execution_count": 9,
   "metadata": {},
   "outputs": [
    {
     "data": {
      "text/plain": [
       "val is_inside_scene_element : point2d -> scene_element -> bool = <fun>\n"
      ]
     },
     "execution_count": 9,
     "metadata": {},
     "output_type": "execute_result"
    }
   ],
   "source": [
    "let is_inside_scene_element point scene_element = \n",
    "  match scene_element with\n",
    "  | Circle {center; radius} ->\n",
    "    distance center point < radius\n",
    "  | Rect { lower_left; width; height } ->\n",
    "    point.x > lower_left.x && point.x < lower_left.x +. width\n",
    "    && point.y > lower_left.y && point.y < lower_left.y +. height\n",
    "  | Segment {endpoint1; endpoint2} -> false\n",
    ";;"
   ]
  },
  {
   "cell_type": "code",
   "execution_count": 11,
   "metadata": {},
   "outputs": [],
   "source": [
    "open Core;;"
   ]
  },
  {
   "cell_type": "code",
   "execution_count": 12,
   "metadata": {},
   "outputs": [
    {
     "data": {
      "text/plain": [
       "val is_inside_scene : point2d -> scene_element list -> bool = <fun>\n"
      ]
     },
     "execution_count": 12,
     "metadata": {},
     "output_type": "execute_result"
    }
   ],
   "source": [
    "let is_inside_scene point scene = \n",
    "  List.exists scene\n",
    "    ~f:(fun el -> is_inside_scene_element point el)\n",
    ";;"
   ]
  },
  {
   "cell_type": "code",
   "execution_count": 13,
   "metadata": {},
   "outputs": [
    {
     "data": {
      "text/plain": [
       "- : bool = false\n"
      ]
     },
     "execution_count": 13,
     "metadata": {},
     "output_type": "execute_result"
    }
   ],
   "source": [
    "is_inside_scene {x=3.;y=7.}\n",
    "  [ Circle {center = {x=4.;y=4.}; radius = 0.5 }];;"
   ]
  },
  {
   "cell_type": "code",
   "execution_count": 14,
   "metadata": {},
   "outputs": [
    {
     "data": {
      "text/plain": [
       "- : bool = true\n"
      ]
     },
     "execution_count": 14,
     "metadata": {},
     "output_type": "execute_result"
    }
   ],
   "source": [
    "is_inside_scene{x=3.;y=7.}\n",
    "  [Circle {center = {x=4.;y=4.}; radius = 5.0 }];;"
   ]
  },
  {
   "cell_type": "markdown",
   "metadata": {},
   "source": [
    "### 1.5 Imperative Programming"
   ]
  },
  {
   "cell_type": "code",
   "execution_count": 15,
   "metadata": {},
   "outputs": [
    {
     "data": {
      "text/plain": [
       "val numbers : int array = [|1; 2; 3; 4|]\n"
      ]
     },
     "execution_count": 15,
     "metadata": {},
     "output_type": "execute_result"
    }
   ],
   "source": [
    "let numbers = [| 1; 2; 3; 4 |];;"
   ]
  },
  {
   "cell_type": "code",
   "execution_count": 16,
   "metadata": {},
   "outputs": [
    {
     "data": {
      "text/plain": [
       "- : unit = ()\n"
      ]
     },
     "execution_count": 16,
     "metadata": {},
     "output_type": "execute_result"
    }
   ],
   "source": [
    "numbers.(2) <- 4;;"
   ]
  },
  {
   "cell_type": "code",
   "execution_count": 17,
   "metadata": {},
   "outputs": [
    {
     "data": {
      "text/plain": [
       "- : int array = [|1; 2; 4; 4|]\n"
      ]
     },
     "execution_count": 17,
     "metadata": {},
     "output_type": "execute_result"
    }
   ],
   "source": [
    "numbers;;"
   ]
  },
  {
   "cell_type": "markdown",
   "metadata": {},
   "source": [
    "#### Mutable Record Fields"
   ]
  },
  {
   "cell_type": "code",
   "execution_count": 2,
   "metadata": {},
   "outputs": [
    {
     "data": {
      "text/plain": [
       "type running_sum = {\n",
       "  mutable sum : float;\n",
       "  mutable sum_sq : float;\n",
       "  mutable samples : int;\n",
       "}\n"
      ]
     },
     "execution_count": 2,
     "metadata": {},
     "output_type": "execute_result"
    }
   ],
   "source": [
    "type running_sum = \n",
    " { mutable sum: float;\n",
    "   mutable sum_sq: float;\n",
    "   mutable samples: int;\n",
    " }\n",
    ";;"
   ]
  },
  {
   "cell_type": "code",
   "execution_count": 3,
   "metadata": {},
   "outputs": [
    {
     "data": {
      "text/plain": [
       "val mean : running_sum -> float = <fun>\n"
      ]
     },
     "execution_count": 3,
     "metadata": {},
     "output_type": "execute_result"
    },
    {
     "data": {
      "text/plain": [
       "val stdev : running_sum -> float = <fun>\n"
      ]
     },
     "execution_count": 3,
     "metadata": {},
     "output_type": "execute_result"
    }
   ],
   "source": [
    "let mean rsum = rsum.sum /. float rsum.samples\n",
    "let stdev rsum = \n",
    "  sqrt (rsum.sum_sq /. float rsum.samples\n",
    "        -. (rsum.sum /. float rsum.samples) ** 2.);;"
   ]
  },
  {
   "cell_type": "code",
   "execution_count": 5,
   "metadata": {},
   "outputs": [
    {
     "data": {
      "text/plain": [
       "val create : unit -> running_sum = <fun>\n"
      ]
     },
     "execution_count": 5,
     "metadata": {},
     "output_type": "execute_result"
    },
    {
     "data": {
      "text/plain": [
       "val update : running_sum -> float -> unit = <fun>\n"
      ]
     },
     "execution_count": 5,
     "metadata": {},
     "output_type": "execute_result"
    }
   ],
   "source": [
    "let create () = { sum = 0.; sum_sq = 0.; samples = 0 }\n",
    "let update rsum x = \n",
    "   rsum.samples <- rsum.samples + 1;\n",
    "   rsum.sum     <- rsum.sum     +. x;\n",
    "   rsum.sum_sq  <- rsum.sum_sq  +. x *. x\n",
    ";;"
   ]
  },
  {
   "cell_type": "code",
   "execution_count": 7,
   "metadata": {
    "scrolled": true
   },
   "outputs": [
    {
     "data": {
      "text/plain": [
       "val rsum : running_sum = {sum = 0.; sum_sq = 0.; samples = 0}\n"
      ]
     },
     "execution_count": 7,
     "metadata": {},
     "output_type": "execute_result"
    }
   ],
   "source": [
    "let rsum = create();;"
   ]
  },
  {
   "cell_type": "code",
   "execution_count": 11,
   "metadata": {},
   "outputs": [],
   "source": [
    "open Core;;"
   ]
  },
  {
   "cell_type": "code",
   "execution_count": 12,
   "metadata": {},
   "outputs": [
    {
     "data": {
      "text/plain": [
       "- : unit = ()\n"
      ]
     },
     "execution_count": 12,
     "metadata": {},
     "output_type": "execute_result"
    }
   ],
   "source": [
    "List.iter [1.;3.;2.;-7.;4.;5.]~f:(fun x -> update rsum x);;"
   ]
  },
  {
   "cell_type": "code",
   "execution_count": 13,
   "metadata": {},
   "outputs": [
    {
     "data": {
      "text/plain": [
       "- : float = 1.3333333333333333\n"
      ]
     },
     "execution_count": 13,
     "metadata": {},
     "output_type": "execute_result"
    }
   ],
   "source": [
    "mean rsum;;"
   ]
  },
  {
   "cell_type": "code",
   "execution_count": 14,
   "metadata": {},
   "outputs": [
    {
     "data": {
      "text/plain": [
       "- : float = 3.944053188733077\n"
      ]
     },
     "execution_count": 14,
     "metadata": {},
     "output_type": "execute_result"
    }
   ],
   "source": [
    "stdev rsum;;"
   ]
  },
  {
   "cell_type": "markdown",
   "metadata": {},
   "source": [
    "### 1.5.3ref"
   ]
  },
  {
   "cell_type": "code",
   "execution_count": 15,
   "metadata": {},
   "outputs": [
    {
     "data": {
      "text/plain": [
       "val x : int Core.ref = {contents = 0}\n"
      ]
     },
     "execution_count": 15,
     "metadata": {},
     "output_type": "execute_result"
    },
    {
     "data": {
      "text/plain": [
       "- : unit = ()\n"
      ]
     },
     "execution_count": 15,
     "metadata": {},
     "output_type": "execute_result"
    },
    {
     "data": {
      "text/plain": [
       "- : int Core.ref = {contents = 1}\n"
      ]
     },
     "execution_count": 15,
     "metadata": {},
     "output_type": "execute_result"
    }
   ],
   "source": [
    "let x = {contents = 0};;\n",
    "x.contents <- x.contents + 1;;\n",
    "x;;"
   ]
  },
  {
   "cell_type": "code",
   "execution_count": 16,
   "metadata": {},
   "outputs": [
    {
     "data": {
      "text/plain": [
       "val x : int Core.ref = {contents = 0}\n"
      ]
     },
     "execution_count": 16,
     "metadata": {},
     "output_type": "execute_result"
    }
   ],
   "source": [
    "let x = ref 0 (* 创建一个ref,即{ contents = 0 } *);;"
   ]
  },
  {
   "cell_type": "code",
   "execution_count": 17,
   "metadata": {},
   "outputs": [
    {
     "data": {
      "text/plain": [
       "- : int = 0\n"
      ]
     },
     "execution_count": 17,
     "metadata": {},
     "output_type": "execute_result"
    }
   ],
   "source": [
    "!x"
   ]
  },
  {
   "cell_type": "code",
   "execution_count": 18,
   "metadata": {},
   "outputs": [
    {
     "data": {
      "text/plain": [
       "- : unit = ()\n"
      ]
     },
     "execution_count": 18,
     "metadata": {},
     "output_type": "execute_result"
    }
   ],
   "source": [
    "x := !x + 1"
   ]
  },
  {
   "cell_type": "code",
   "execution_count": 19,
   "metadata": {},
   "outputs": [
    {
     "data": {
      "text/plain": [
       "- : int = 1\n"
      ]
     },
     "execution_count": 19,
     "metadata": {},
     "output_type": "execute_result"
    }
   ],
   "source": [
    "!x"
   ]
  },
  {
   "cell_type": "code",
   "execution_count": 21,
   "metadata": {},
   "outputs": [
    {
     "data": {
      "text/plain": [
       "type 'a ref = { mutable contents : 'a; }\n"
      ]
     },
     "execution_count": 21,
     "metadata": {},
     "output_type": "execute_result"
    },
    {
     "data": {
      "text/plain": [
       "val ref : 'a -> 'a ref = <fun>\n"
      ]
     },
     "execution_count": 21,
     "metadata": {},
     "output_type": "execute_result"
    },
    {
     "data": {
      "text/plain": [
       "val ( ! ) : 'a ref -> 'a = <fun>\n"
      ]
     },
     "execution_count": 21,
     "metadata": {},
     "output_type": "execute_result"
    },
    {
     "data": {
      "text/plain": [
       "val ( := ) : 'a ref -> 'a -> unit = <fun>\n"
      ]
     },
     "execution_count": 21,
     "metadata": {},
     "output_type": "execute_result"
    }
   ],
   "source": [
    "type 'a  ref = {mutable contents : 'a }\n",
    "let ref x = { contents = x }\n",
    "let (!) r = r.contents\n",
    "let (:=) r x = r.contents <- x\n",
    ";;"
   ]
  },
  {
   "cell_type": "code",
   "execution_count": 22,
   "metadata": {},
   "outputs": [
    {
     "data": {
      "text/plain": [
       "val sum : int list -> int = <fun>\n"
      ]
     },
     "execution_count": 22,
     "metadata": {},
     "output_type": "execute_result"
    }
   ],
   "source": [
    "let sum list =\n",
    "  let sum = ref 0 in \n",
    "  List.iter list ~f:(fun x -> sum := !sum + x);\n",
    "  !sum\n",
    ";;"
   ]
  },
  {
   "cell_type": "markdown",
   "metadata": {},
   "source": [
    "### 1.5.4 for and while loop"
   ]
  },
  {
   "cell_type": "code",
   "execution_count": 1,
   "metadata": {},
   "outputs": [],
   "source": [
    "open Core;;"
   ]
  },
  {
   "cell_type": "code",
   "execution_count": 2,
   "metadata": {},
   "outputs": [
    {
     "data": {
      "text/plain": [
       "val permute : 'a Core.Array.t -> unit = <fun>\n"
      ]
     },
     "execution_count": 2,
     "metadata": {},
     "output_type": "execute_result"
    }
   ],
   "source": [
    "let permute array = \n",
    "  let length = Array.length array in\n",
    "  for i = 0 to length -2 do\n",
    "      (* 选择一个要交换的j *)\n",
    "      let j = i + Random.int (length - i) in \n",
    "      (* 交换 i和j *)\n",
    "      let tmp = array.(i) in \n",
    "      array.(i) <- array.(j);\n",
    "      array.(j) <- tmp\n",
    "  done\n",
    ";;  "
   ]
  },
  {
   "cell_type": "code",
   "execution_count": 3,
   "metadata": {},
   "outputs": [
    {
     "data": {
      "text/plain": [
       "val ar : int Core.Array.t =\n",
       "  [|0; 1; 2; 3; 4; 5; 6; 7; 8; 9; 10; 11; 12; 13; 14; 15; 16; 17; 18; 19|]\n"
      ]
     },
     "execution_count": 3,
     "metadata": {},
     "output_type": "execute_result"
    },
    {
     "data": {
      "text/plain": [
       "- : unit = ()\n"
      ]
     },
     "execution_count": 3,
     "metadata": {},
     "output_type": "execute_result"
    },
    {
     "data": {
      "text/plain": [
       "- : int Core.Array.t =\n",
       "[|15; 1; 2; 6; 16; 7; 13; 4; 10; 8; 5; 12; 9; 14; 19; 0; 11; 3; 17; 18|]\n"
      ]
     },
     "execution_count": 3,
     "metadata": {},
     "output_type": "execute_result"
    }
   ],
   "source": [
    "let ar = Array.init 20 ~f:(fun i -> i);;\n",
    "permute ar;;\n",
    "ar;;"
   ]
  },
  {
   "cell_type": "code",
   "execution_count": 4,
   "metadata": {},
   "outputs": [
    {
     "data": {
      "text/plain": [
       "val find_first_negative_entry : Core_kernel.Int.t Core.Array.t -> int option =\n",
       "  <fun>\n"
      ]
     },
     "execution_count": 4,
     "metadata": {},
     "output_type": "execute_result"
    }
   ],
   "source": [
    "let find_first_negative_entry array = \n",
    "  let pos = ref 0 in \n",
    "  while !pos < Array.length array && array.(!pos) >= 0 do\n",
    "    pos := !pos + 1\n",
    "  done;\n",
    "  if !pos = Array.length array then None else Some !pos\n",
    ";;"
   ]
  },
  {
   "cell_type": "code",
   "execution_count": 5,
   "metadata": {},
   "outputs": [
    {
     "data": {
      "text/plain": [
       "- : int option = None\n"
      ]
     },
     "execution_count": 5,
     "metadata": {},
     "output_type": "execute_result"
    }
   ],
   "source": [
    "find_first_negative_entry[|1;2;0;3|]"
   ]
  },
  {
   "cell_type": "code",
   "execution_count": 6,
   "metadata": {},
   "outputs": [
    {
     "data": {
      "text/plain": [
       "- : int option = Some 1\n"
      ]
     },
     "execution_count": 6,
     "metadata": {},
     "output_type": "execute_result"
    }
   ],
   "source": [
    "find_first_negative_entry[|1;-2;0;3|];;"
   ]
  },
  {
   "cell_type": "code",
   "execution_count": 7,
   "metadata": {},
   "outputs": [
    {
     "data": {
      "text/plain": [
       "val find_first_negative_entry : Core_kernel.Int.t Core.Array.t -> int option =\n",
       "  <fun>\n"
      ]
     },
     "execution_count": 7,
     "metadata": {},
     "output_type": "execute_result"
    }
   ],
   "source": [
    "let find_first_negative_entry array = \n",
    "  let pos = ref 0 in \n",
    "  while \n",
    "    let pos_is_good = !pos < Array.length array in\n",
    "    let element_is_non_negative = array.(!pos) >= 0 in\n",
    "    pos_is_good && element_is_non_negative\n",
    "  do\n",
    "    pos := !pos + 1\n",
    "  done;\n",
    "  if !pos = Array.length array then None else Some !pos\n",
    ";;"
   ]
  },
  {
   "cell_type": "code",
   "execution_count": 8,
   "metadata": {
    "scrolled": true
   },
   "outputs": [
    {
     "ename": "error",
     "evalue": "runtime_error",
     "output_type": "error",
     "traceback": [
      "\u001b[31mException: (Invalid_argument \"index out of bounds\").\nRaised by primitive operation at find_first_negative_entry in file \"[7]\", line 5, characters 34-46\nCalled from Toploop.load_lambda in file \"toplevel/toploop.ml\", line 212, characters 17-27\n\u001b[0m"
     ]
    }
   ],
   "source": [
    "find_first_negative_entry[|1;2;0;3|];;"
   ]
  },
  {
   "cell_type": "markdown",
   "metadata": {},
   "source": [
    "## 1.6"
   ]
  },
  {
   "cell_type": "code",
   "execution_count": null,
   "metadata": {},
   "outputs": [
    {
     "name": "stderr",
     "output_type": "stream",
     "text": [
      "File \"[1]\", line 1, characters 0-2Parse error: illegal begin of use_file\n",
      "Uncaught exception:\n",
      "  \n",
      "  Exit\n",
      "\n",
      "Raised at Top.wrap in file \"camlp4/Camlp4Top/Top.ml\", line 61, characters 8-18\n",
      "Called from Jupyter_repl__Evaluation.eval in file \"evaluation.cppo.ml\", line 114, characters 24-56\n",
      "Re-raised at Location.report_exception.loop in file \"parsing/location.ml\", line 926, characters 14-25\n",
      "Called from Jupyter_repl__Error.to_string_hum in file \"error.cppo.ml\", line 147, characters 2-29\n",
      "Called from Jupyter_repl__Evaluation.eval in file \"evaluation.cppo.ml\", line 120, characters 14-62\n",
      "Called from Jupyter_repl__Process.create_child_process.main_loop in file \"jupyter/src/repl/process.ml\", line 73, characters 8-80\n",
      "Called from Jupyter_main in file \"jupyter/bin/jupyter_main.ml\", line 47, characters 4-149\n"
     ]
    },
    {
     "name": "stdout",
     "output_type": "stream",
     "text": [
      "Raised at Stdlib.invalid_arg in file \"stdlib.ml\", line 30, characters 20-45\n",
      "Called from Toploop in file \"toplevel/toploop.ml\", line 516, characters 2-159\n",
      "Called from Topdirs.load_compunit in file \"toplevel/topdirs.ml\", line 153, characters 11-23\n"
     ]
    }
   ],
   "source": [
    "%%writefile sum.ml\n",
    "open Core\n",
    "let rec read_and_accumulate accum =\n",
    "  let line = In_channel.input_line In_channel.stdin in\n",
    "  match line with\n",
    "  | None -> accum\n",
    "  | Some x -> read_and_accumulate (accum +. Float.of_string x)\n",
    "let () = \n",
    "  printf \"Total: %F\\n\"(read_and_accumulate 0.)"
   ]
  },
  {
   "cell_type": "code",
   "execution_count": null,
   "metadata": {},
   "outputs": [],
   "source": [
    "!corebuild sum.native"
   ]
  },
  {
   "cell_type": "code",
   "execution_count": null,
   "metadata": {},
   "outputs": [],
   "source": [
    "!./sum.native"
   ]
  }
 ],
 "metadata": {
  "kernelspec": {
   "display_name": "OCaml 4.11.1",
   "language": "OCaml",
   "name": "ocaml-jupyter"
  },
  "language_info": {
   "codemirror_mode": "text/x-ocaml",
   "file_extension": ".ml",
   "mimetype": "text/x-ocaml",
   "name": "OCaml",
   "nbconverter_exporter": null,
   "pygments_lexer": "OCaml",
   "version": "4.11.1"
  }
 },
 "nbformat": 4,
 "nbformat_minor": 4
}
